{
 "cells": [
  {
   "cell_type": "markdown",
   "id": "3a4069cd",
   "metadata": {},
   "source": [
    "# Loss Function"
   ]
  },
  {
   "cell_type": "markdown",
   "id": "59064272",
   "metadata": {},
   "source": [
    "## Linear Classifiers : the Coefficients"
   ]
  },
  {
   "cell_type": "markdown",
   "id": "3f187c2d",
   "metadata": {},
   "source": [
    "### 1. Math Behind Classification"
   ]
  },
  {
   "cell_type": "code",
   "execution_count": 1,
   "id": "d2cf5569",
   "metadata": {},
   "outputs": [],
   "source": [
    "import numpy as np"
   ]
  },
  {
   "cell_type": "markdown",
   "id": "355c82a5",
   "metadata": {},
   "source": [
    "#### Dot Product\n",
    "\n",
    "Dot product (disebut juga inner product atau scalar product) adalah operasi matematika antara dua vektor yang menghasilkan nilai skalar (bilangan tunggal), bukan vektor. Operasi ini sering digunakan dalam berbagai aplikasi matematika dan ilmu komputer, seperti aljabar linear, pemrosesan gambar, pembelajaran mesin, dan banyak lagi. Dot product dua vektor, misalnya vektor A dan vektor B, biasanya dilambangkan sebagai A · B atau A "
   ]
  },
  {
   "cell_type": "code",
   "execution_count": 2,
   "id": "0919f8b9",
   "metadata": {},
   "outputs": [
    {
     "data": {
      "text/plain": [
       "array([0, 1, 2])"
      ]
     },
     "execution_count": 2,
     "metadata": {},
     "output_type": "execute_result"
    }
   ],
   "source": [
    "#### Dot Products \n",
    "\n",
    "x = np.arange(3)\n",
    "x"
   ]
  },
  {
   "cell_type": "code",
   "execution_count": 3,
   "id": "257cc5e3",
   "metadata": {},
   "outputs": [
    {
     "data": {
      "text/plain": [
       "array([3, 4, 5])"
      ]
     },
     "execution_count": 3,
     "metadata": {},
     "output_type": "execute_result"
    }
   ],
   "source": [
    "y = np.arange(3,6)\n",
    "y"
   ]
  },
  {
   "cell_type": "code",
   "execution_count": 4,
   "id": "f3b020ff",
   "metadata": {},
   "outputs": [
    {
     "data": {
      "text/plain": [
       "array([ 0,  4, 10])"
      ]
     },
     "execution_count": 4,
     "metadata": {},
     "output_type": "execute_result"
    }
   ],
   "source": [
    "x*y"
   ]
  },
  {
   "cell_type": "code",
   "execution_count": 5,
   "id": "2cdeb980",
   "metadata": {},
   "outputs": [
    {
     "data": {
      "text/plain": [
       "14"
      ]
     },
     "execution_count": 5,
     "metadata": {},
     "output_type": "execute_result"
    }
   ],
   "source": [
    "np.sum(x*y)"
   ]
  },
  {
   "cell_type": "code",
   "execution_count": 6,
   "id": "f2f2ca5b",
   "metadata": {},
   "outputs": [
    {
     "data": {
      "text/plain": [
       "14"
      ]
     },
     "execution_count": 6,
     "metadata": {},
     "output_type": "execute_result"
    }
   ],
   "source": [
    "# x@y merupakan cara lain dari dot product  dari X dan Y yang ditulis x.y\n",
    "x@y"
   ]
  },
  {
   "cell_type": "markdown",
   "id": "f1487280",
   "metadata": {},
   "source": [
    "### 2. Linear Classfier Prediction"
   ]
  },
  {
   "cell_type": "markdown",
   "id": "4e38b7d9",
   "metadata": {},
   "source": [
    "dengan menggunakan dot product kita dapat mengetahui kaliasifikasi biner dalam membuat prediksi.\n",
    "1. menghitung raw model oupput\n",
    "    - **raw model output = coefficients . features + intercept**\n",
    "\n",
    "<br>\n",
    "\n",
    "2. linear clasiffier akan memprediksi dengan menghitung raw model output kemudian memeriksa tanda \n",
    "    - jika positif, prediksi salah satu kelas\n",
    "    - jika negatif prediksi kelas lainnya\n",
    "\n",
    "3. pola ini sama untk regresi logistik dan SVM\n",
    "\n",
    "4. Dalam scikit learn, fungsi fit pada SVM Linear dan Regresi Logistik berbeda, namun fungsi prediksi nya sama. "
   ]
  },
  {
   "cell_type": "code",
   "execution_count": 12,
   "id": "21d28841",
   "metadata": {},
   "outputs": [],
   "source": [
    "import pandas as pd"
   ]
  },
  {
   "cell_type": "code",
   "execution_count": 14,
   "id": "d2269375",
   "metadata": {},
   "outputs": [
    {
     "data": {
      "text/html": [
       "<div>\n",
       "<style scoped>\n",
       "    .dataframe tbody tr th:only-of-type {\n",
       "        vertical-align: middle;\n",
       "    }\n",
       "\n",
       "    .dataframe tbody tr th {\n",
       "        vertical-align: top;\n",
       "    }\n",
       "\n",
       "    .dataframe thead th {\n",
       "        text-align: right;\n",
       "    }\n",
       "</style>\n",
       "<table border=\"1\" class=\"dataframe\">\n",
       "  <thead>\n",
       "    <tr style=\"text-align: right;\">\n",
       "      <th></th>\n",
       "      <th>id</th>\n",
       "      <th>diagnosis</th>\n",
       "      <th>radius_mean</th>\n",
       "      <th>texture_mean</th>\n",
       "      <th>perimeter_mean</th>\n",
       "      <th>area_mean</th>\n",
       "      <th>smoothness_mean</th>\n",
       "      <th>compactness_mean</th>\n",
       "      <th>concavity_mean</th>\n",
       "      <th>concave points_mean</th>\n",
       "      <th>...</th>\n",
       "      <th>texture_worst</th>\n",
       "      <th>perimeter_worst</th>\n",
       "      <th>area_worst</th>\n",
       "      <th>smoothness_worst</th>\n",
       "      <th>compactness_worst</th>\n",
       "      <th>concavity_worst</th>\n",
       "      <th>concave points_worst</th>\n",
       "      <th>symmetry_worst</th>\n",
       "      <th>fractal_dimension_worst</th>\n",
       "      <th>Unnamed: 32</th>\n",
       "    </tr>\n",
       "  </thead>\n",
       "  <tbody>\n",
       "    <tr>\n",
       "      <th>0</th>\n",
       "      <td>842302</td>\n",
       "      <td>M</td>\n",
       "      <td>17.99</td>\n",
       "      <td>10.38</td>\n",
       "      <td>122.80</td>\n",
       "      <td>1001.0</td>\n",
       "      <td>0.11840</td>\n",
       "      <td>0.27760</td>\n",
       "      <td>0.3001</td>\n",
       "      <td>0.14710</td>\n",
       "      <td>...</td>\n",
       "      <td>17.33</td>\n",
       "      <td>184.60</td>\n",
       "      <td>2019.0</td>\n",
       "      <td>0.1622</td>\n",
       "      <td>0.6656</td>\n",
       "      <td>0.7119</td>\n",
       "      <td>0.2654</td>\n",
       "      <td>0.4601</td>\n",
       "      <td>0.11890</td>\n",
       "      <td>NaN</td>\n",
       "    </tr>\n",
       "    <tr>\n",
       "      <th>1</th>\n",
       "      <td>842517</td>\n",
       "      <td>M</td>\n",
       "      <td>20.57</td>\n",
       "      <td>17.77</td>\n",
       "      <td>132.90</td>\n",
       "      <td>1326.0</td>\n",
       "      <td>0.08474</td>\n",
       "      <td>0.07864</td>\n",
       "      <td>0.0869</td>\n",
       "      <td>0.07017</td>\n",
       "      <td>...</td>\n",
       "      <td>23.41</td>\n",
       "      <td>158.80</td>\n",
       "      <td>1956.0</td>\n",
       "      <td>0.1238</td>\n",
       "      <td>0.1866</td>\n",
       "      <td>0.2416</td>\n",
       "      <td>0.1860</td>\n",
       "      <td>0.2750</td>\n",
       "      <td>0.08902</td>\n",
       "      <td>NaN</td>\n",
       "    </tr>\n",
       "    <tr>\n",
       "      <th>2</th>\n",
       "      <td>84300903</td>\n",
       "      <td>M</td>\n",
       "      <td>19.69</td>\n",
       "      <td>21.25</td>\n",
       "      <td>130.00</td>\n",
       "      <td>1203.0</td>\n",
       "      <td>0.10960</td>\n",
       "      <td>0.15990</td>\n",
       "      <td>0.1974</td>\n",
       "      <td>0.12790</td>\n",
       "      <td>...</td>\n",
       "      <td>25.53</td>\n",
       "      <td>152.50</td>\n",
       "      <td>1709.0</td>\n",
       "      <td>0.1444</td>\n",
       "      <td>0.4245</td>\n",
       "      <td>0.4504</td>\n",
       "      <td>0.2430</td>\n",
       "      <td>0.3613</td>\n",
       "      <td>0.08758</td>\n",
       "      <td>NaN</td>\n",
       "    </tr>\n",
       "    <tr>\n",
       "      <th>3</th>\n",
       "      <td>84348301</td>\n",
       "      <td>M</td>\n",
       "      <td>11.42</td>\n",
       "      <td>20.38</td>\n",
       "      <td>77.58</td>\n",
       "      <td>386.1</td>\n",
       "      <td>0.14250</td>\n",
       "      <td>0.28390</td>\n",
       "      <td>0.2414</td>\n",
       "      <td>0.10520</td>\n",
       "      <td>...</td>\n",
       "      <td>26.50</td>\n",
       "      <td>98.87</td>\n",
       "      <td>567.7</td>\n",
       "      <td>0.2098</td>\n",
       "      <td>0.8663</td>\n",
       "      <td>0.6869</td>\n",
       "      <td>0.2575</td>\n",
       "      <td>0.6638</td>\n",
       "      <td>0.17300</td>\n",
       "      <td>NaN</td>\n",
       "    </tr>\n",
       "    <tr>\n",
       "      <th>4</th>\n",
       "      <td>84358402</td>\n",
       "      <td>M</td>\n",
       "      <td>20.29</td>\n",
       "      <td>14.34</td>\n",
       "      <td>135.10</td>\n",
       "      <td>1297.0</td>\n",
       "      <td>0.10030</td>\n",
       "      <td>0.13280</td>\n",
       "      <td>0.1980</td>\n",
       "      <td>0.10430</td>\n",
       "      <td>...</td>\n",
       "      <td>16.67</td>\n",
       "      <td>152.20</td>\n",
       "      <td>1575.0</td>\n",
       "      <td>0.1374</td>\n",
       "      <td>0.2050</td>\n",
       "      <td>0.4000</td>\n",
       "      <td>0.1625</td>\n",
       "      <td>0.2364</td>\n",
       "      <td>0.07678</td>\n",
       "      <td>NaN</td>\n",
       "    </tr>\n",
       "  </tbody>\n",
       "</table>\n",
       "<p>5 rows × 33 columns</p>\n",
       "</div>"
      ],
      "text/plain": [
       "         id diagnosis  radius_mean  texture_mean  perimeter_mean  area_mean  \\\n",
       "0    842302         M        17.99         10.38          122.80     1001.0   \n",
       "1    842517         M        20.57         17.77          132.90     1326.0   \n",
       "2  84300903         M        19.69         21.25          130.00     1203.0   \n",
       "3  84348301         M        11.42         20.38           77.58      386.1   \n",
       "4  84358402         M        20.29         14.34          135.10     1297.0   \n",
       "\n",
       "   smoothness_mean  compactness_mean  concavity_mean  concave points_mean  \\\n",
       "0          0.11840           0.27760          0.3001              0.14710   \n",
       "1          0.08474           0.07864          0.0869              0.07017   \n",
       "2          0.10960           0.15990          0.1974              0.12790   \n",
       "3          0.14250           0.28390          0.2414              0.10520   \n",
       "4          0.10030           0.13280          0.1980              0.10430   \n",
       "\n",
       "   ...  texture_worst  perimeter_worst  area_worst  smoothness_worst  \\\n",
       "0  ...          17.33           184.60      2019.0            0.1622   \n",
       "1  ...          23.41           158.80      1956.0            0.1238   \n",
       "2  ...          25.53           152.50      1709.0            0.1444   \n",
       "3  ...          26.50            98.87       567.7            0.2098   \n",
       "4  ...          16.67           152.20      1575.0            0.1374   \n",
       "\n",
       "   compactness_worst  concavity_worst  concave points_worst  symmetry_worst  \\\n",
       "0             0.6656           0.7119                0.2654          0.4601   \n",
       "1             0.1866           0.2416                0.1860          0.2750   \n",
       "2             0.4245           0.4504                0.2430          0.3613   \n",
       "3             0.8663           0.6869                0.2575          0.6638   \n",
       "4             0.2050           0.4000                0.1625          0.2364   \n",
       "\n",
       "   fractal_dimension_worst  Unnamed: 32  \n",
       "0                  0.11890          NaN  \n",
       "1                  0.08902          NaN  \n",
       "2                  0.08758          NaN  \n",
       "3                  0.17300          NaN  \n",
       "4                  0.07678          NaN  \n",
       "\n",
       "[5 rows x 33 columns]"
      ]
     },
     "execution_count": 14,
     "metadata": {},
     "output_type": "execute_result"
    }
   ],
   "source": [
    "wbc = pd.read_csv('dataset/breast.csv')\n",
    "wbc.head()"
   ]
  },
  {
   "cell_type": "code",
   "execution_count": 15,
   "id": "5be37b98",
   "metadata": {},
   "outputs": [],
   "source": [
    "X = wbc[['radius_mean', 'concave points_mean']]\n",
    "y = wbc['diagnosis']\n",
    "y = y.map({'M':1, 'B':0})"
   ]
  },
  {
   "cell_type": "code",
   "execution_count": 18,
   "id": "3f5b0329",
   "metadata": {},
   "outputs": [],
   "source": [
    "from sklearn.model_selection import train_test_split\n",
    "\n",
    "# atur seed untk repoducibility\n",
    "SEED = 1\n",
    "\n",
    "# lakukan train test split 70:30\n",
    "X_train, X_test, y_train, y_test = train_test_split( X, y,\n",
    "                                                   test_size= 0.3,\n",
    "                                                   random_state= SEED)"
   ]
  },
  {
   "cell_type": "code",
   "execution_count": 19,
   "id": "a5ce38de",
   "metadata": {},
   "outputs": [
    {
     "data": {
      "text/plain": [
       "1"
      ]
     },
     "execution_count": 19,
     "metadata": {},
     "output_type": "execute_result"
    }
   ],
   "source": [
    "from sklearn.linear_model import LogisticRegression\n",
    "\n",
    "lr = LogisticRegression()\n",
    "\n",
    "lr.fit(X,y)\n",
    "\n",
    "lr.predict(X)[10]"
   ]
  },
  {
   "cell_type": "code",
   "execution_count": 20,
   "id": "bba80f8d",
   "metadata": {},
   "outputs": [
    {
     "data": {
      "text/plain": [
       "0"
      ]
     },
     "execution_count": 20,
     "metadata": {},
     "output_type": "execute_result"
    }
   ],
   "source": [
    "lr.predict(X)[20]"
   ]
  },
  {
   "cell_type": "markdown",
   "id": "2b078823",
   "metadata": {},
   "source": [
    "### Exercise"
   ]
  },
  {
   "cell_type": "markdown",
   "id": "c8c4aa0b",
   "metadata": {},
   "source": [
    "**How models make predictions**\n",
    "\n",
    "Which classifiers make predictions based on the sign (positive or negative) of the raw model output?\n",
    "\n",
    "ans : Both logistic regression and Linear SVMs"
   ]
  },
  {
   "cell_type": "markdown",
   "id": "917e86f2",
   "metadata": {},
   "source": [
    " > Nice! Furthermore, since logistic regression and SVMs are both linear classifiers, the raw model output is a linear function of x."
   ]
  },
  {
   "cell_type": "markdown",
   "id": "3a7a9ced",
   "metadata": {},
   "source": [
    "**2. Changing the model coefficients**\n",
    "\n",
    "When you call fit with scikit-learn, the logistic regression coefficients are automatically learned from your dataset. In this exercise you will explore how the decision boundary is represented by the coefficients. To do so, you will change the coefficients manually (instead of with fit), and visualize the resulting classifiers.\n",
    "\n",
    "A 2D dataset is already loaded into the environment as X and y, along with a linear classifier object model."
   ]
  },
  {
   "cell_type": "markdown",
   "id": "000b64b6",
   "metadata": {},
   "source": [
    "- Set the two coefficients and the intercept to various values and observe the resulting decision boundaries.\n",
    "- Try to build up a sense of how the coefficients relate to the decision boundary.\n",
    "- Set the coefficients and intercept such that the model makes no errors on the given training data.\n",
    "\n"
   ]
  },
  {
   "cell_type": "code",
   "execution_count": 29,
   "id": "da01843f",
   "metadata": {},
   "outputs": [],
   "source": [
    "#hide\n",
    "X = np.array([[ 1.78862847,  0.43650985],\n",
    "       [ 0.09649747, -1.8634927 ],\n",
    "       [-0.2773882 , -0.35475898],\n",
    "       [-3.08274148,  2.37299932],\n",
    "       [-3.04381817,  2.52278197],\n",
    "       [-1.31386475,  0.88462238],\n",
    "       [-2.11868196,  4.70957306],\n",
    "       [-2.94996636,  2.59532259],\n",
    "       [-3.54535995,  1.45352268],\n",
    "       [ 0.98236743, -1.10106763],\n",
    "       [-1.18504653, -0.2056499 ],\n",
    "       [-1.51385164,  3.23671627],\n",
    "       [-4.02378514,  2.2870068 ],\n",
    "       [ 0.62524497, -0.16051336],\n",
    "       [-3.76883635,  2.76996928],\n",
    "       [ 0.74505627,  1.97611078],\n",
    "       [-1.24412333, -0.62641691],\n",
    "       [-0.80376609, -2.41908317],\n",
    "       [-0.92379202, -1.02387576],\n",
    "       [ 1.12397796, -0.13191423]])\n",
    "\n",
    "y = np.array([-1, -1, -1,  1,  1, -1,  1,  1,  1, -1, -1,  1,  1, -1,  1, -1, -1,\n",
    "       -1, -1, -1])"
   ]
  },
  {
   "cell_type": "code",
   "execution_count": 30,
   "id": "82af0bcc",
   "metadata": {},
   "outputs": [],
   "source": [
    "def make_meshgrid(x, y, h=.02, lims=None):\n",
    "    \"\"\"Create a mesh of points to plot in\n",
    "    \n",
    "    Parameters\n",
    "    ----------\n",
    "        x: data to base x-axis meshgrid on\n",
    "        y: data to base y-axis meshgrid on\n",
    "        h: stepsize for meshgrid, optional\n",
    "        \n",
    "    Returns\n",
    "    -------\n",
    "        xx, yy : ndarray\n",
    "    \"\"\"\n",
    "    \n",
    "    if lims is None:\n",
    "        x_min, x_max = x.min() - 1, x.max() + 1\n",
    "        y_min, y_max = y.min() - 1, y.max() + 1\n",
    "    else:\n",
    "        x_min, x_max, y_min, y_max = lims\n",
    "    xx, yy = np.meshgrid(np.arange(x_min, x_max, h),\n",
    "                         np.arange(y_min, y_max, h))\n",
    "    return xx, yy\n",
    "\n",
    "def plot_contours(ax, clf, xx, yy, proba=False, **params):\n",
    "    \"\"\"Plot the decision boundaries for a classifier.\n",
    "    \n",
    "    Parameters\n",
    "    ----------\n",
    "        ax: matplotlib axes object\n",
    "        clf: a classifier\n",
    "        xx: meshgrid ndarray\n",
    "        yy: meshgrid ndarray\n",
    "        params: dictionary of params to pass to contourf, optional\n",
    "    \"\"\"\n",
    "    if proba:\n",
    "        Z = clf.predict_proba(np.c_[xx.ravel(), yy.ravel()])[:,-1]\n",
    "        Z = Z.reshape(xx.shape)\n",
    "        out = ax.imshow(Z,extent=(np.min(xx), np.max(xx), np.min(yy), np.max(yy)), \n",
    "                        origin='lower', vmin=0, vmax=1, **params)\n",
    "        ax.contour(xx, yy, Z, levels=[0.5])\n",
    "    else:\n",
    "        Z = clf.predict(np.c_[xx.ravel(), yy.ravel()])\n",
    "        Z = Z.reshape(xx.shape)\n",
    "        out = ax.contourf(xx, yy, Z, **params)\n",
    "    return out\n",
    "\n",
    "def plot_classifier(X, y, clf, ax=None, ticks=False, proba=False, lims=None): \n",
    "    # assumes classifier \"clf\" is already fit\n",
    "    X0, X1 = X[:, 0], X[:, 1]\n",
    "    xx, yy = make_meshgrid(X0, X1, lims=lims)\n",
    "    \n",
    "    if ax is None:\n",
    "        plt.figure()\n",
    "        ax = plt.gca()\n",
    "        show = True\n",
    "    else:\n",
    "        show = False\n",
    "        \n",
    "    # can abstract some of this into a higher-level function for learners to call\n",
    "    cs = plot_contours(ax, clf, xx, yy, cmap=plt.cm.coolwarm, alpha=0.8, proba=proba)\n",
    "    if proba:\n",
    "        cbar = plt.colorbar(cs)\n",
    "        cbar.ax.set_ylabel('probability of red $\\Delta$ class', fontsize=20, rotation=270, labelpad=30)\n",
    "        cbar.ax.tick_params(labelsize=14)\n",
    "        #ax.scatter(X0, X1, c=y, cmap=plt.cm.coolwarm, s=30, edgecolors=\\'k\\', linewidth=1)\n",
    "    labels = np.unique(y)\n",
    "    if len(labels) == 2:\n",
    "        ax.scatter(X0[y==labels[0]], X1[y==labels[0]], cmap=plt.cm.coolwarm, \n",
    "                   s=60, c='b', marker='o', edgecolors='k')\n",
    "        ax.scatter(X0[y==labels[1]], X1[y==labels[1]], cmap=plt.cm.coolwarm, \n",
    "                   s=60, c='r', marker='^', edgecolors='k')\n",
    "    else:\n",
    "        ax.scatter(X0, X1, c=y, cmap=plt.cm.coolwarm, s=50, edgecolors='k', linewidth=1)\n",
    "\n",
    "    ax.set_xlim(xx.min(), xx.max())\n",
    "    ax.set_ylim(yy.min(), yy.max())\n",
    "    #     ax.set_xlabel(data.feature_names[0])\n",
    "    #     ax.set_ylabel(data.feature_names[1])\n",
    "    if ticks:\n",
    "        ax.set_xticks(())\n",
    "        ax.set_yticks(())\n",
    "        #     ax.set_title(title)\n",
    "    if show:\n",
    "        plt.show()\n",
    "    else:\n",
    "        return ax"
   ]
  },
  {
   "cell_type": "code",
   "execution_count": 31,
   "id": "01ad872e",
   "metadata": {},
   "outputs": [
    {
     "data": {
      "text/html": [
       "<style>#sk-container-id-1 {color: black;background-color: white;}#sk-container-id-1 pre{padding: 0;}#sk-container-id-1 div.sk-toggleable {background-color: white;}#sk-container-id-1 label.sk-toggleable__label {cursor: pointer;display: block;width: 100%;margin-bottom: 0;padding: 0.3em;box-sizing: border-box;text-align: center;}#sk-container-id-1 label.sk-toggleable__label-arrow:before {content: \"▸\";float: left;margin-right: 0.25em;color: #696969;}#sk-container-id-1 label.sk-toggleable__label-arrow:hover:before {color: black;}#sk-container-id-1 div.sk-estimator:hover label.sk-toggleable__label-arrow:before {color: black;}#sk-container-id-1 div.sk-toggleable__content {max-height: 0;max-width: 0;overflow: hidden;text-align: left;background-color: #f0f8ff;}#sk-container-id-1 div.sk-toggleable__content pre {margin: 0.2em;color: black;border-radius: 0.25em;background-color: #f0f8ff;}#sk-container-id-1 input.sk-toggleable__control:checked~div.sk-toggleable__content {max-height: 200px;max-width: 100%;overflow: auto;}#sk-container-id-1 input.sk-toggleable__control:checked~label.sk-toggleable__label-arrow:before {content: \"▾\";}#sk-container-id-1 div.sk-estimator input.sk-toggleable__control:checked~label.sk-toggleable__label {background-color: #d4ebff;}#sk-container-id-1 div.sk-label input.sk-toggleable__control:checked~label.sk-toggleable__label {background-color: #d4ebff;}#sk-container-id-1 input.sk-hidden--visually {border: 0;clip: rect(1px 1px 1px 1px);clip: rect(1px, 1px, 1px, 1px);height: 1px;margin: -1px;overflow: hidden;padding: 0;position: absolute;width: 1px;}#sk-container-id-1 div.sk-estimator {font-family: monospace;background-color: #f0f8ff;border: 1px dotted black;border-radius: 0.25em;box-sizing: border-box;margin-bottom: 0.5em;}#sk-container-id-1 div.sk-estimator:hover {background-color: #d4ebff;}#sk-container-id-1 div.sk-parallel-item::after {content: \"\";width: 100%;border-bottom: 1px solid gray;flex-grow: 1;}#sk-container-id-1 div.sk-label:hover label.sk-toggleable__label {background-color: #d4ebff;}#sk-container-id-1 div.sk-serial::before {content: \"\";position: absolute;border-left: 1px solid gray;box-sizing: border-box;top: 0;bottom: 0;left: 50%;z-index: 0;}#sk-container-id-1 div.sk-serial {display: flex;flex-direction: column;align-items: center;background-color: white;padding-right: 0.2em;padding-left: 0.2em;position: relative;}#sk-container-id-1 div.sk-item {position: relative;z-index: 1;}#sk-container-id-1 div.sk-parallel {display: flex;align-items: stretch;justify-content: center;background-color: white;position: relative;}#sk-container-id-1 div.sk-item::before, #sk-container-id-1 div.sk-parallel-item::before {content: \"\";position: absolute;border-left: 1px solid gray;box-sizing: border-box;top: 0;bottom: 0;left: 50%;z-index: -1;}#sk-container-id-1 div.sk-parallel-item {display: flex;flex-direction: column;z-index: 1;position: relative;background-color: white;}#sk-container-id-1 div.sk-parallel-item:first-child::after {align-self: flex-end;width: 50%;}#sk-container-id-1 div.sk-parallel-item:last-child::after {align-self: flex-start;width: 50%;}#sk-container-id-1 div.sk-parallel-item:only-child::after {width: 0;}#sk-container-id-1 div.sk-dashed-wrapped {border: 1px dashed gray;margin: 0 0.4em 0.5em 0.4em;box-sizing: border-box;padding-bottom: 0.4em;background-color: white;}#sk-container-id-1 div.sk-label label {font-family: monospace;font-weight: bold;display: inline-block;line-height: 1.2em;}#sk-container-id-1 div.sk-label-container {text-align: center;}#sk-container-id-1 div.sk-container {/* jupyter's `normalize.less` sets `[hidden] { display: none; }` but bootstrap.min.css set `[hidden] { display: none !important; }` so we also need the `!important` here to be able to override the default hidden behavior on the sphinx rendered scikit-learn.org. See: https://github.com/scikit-learn/scikit-learn/issues/21755 */display: inline-block !important;position: relative;}#sk-container-id-1 div.sk-text-repr-fallback {display: none;}</style><div id=\"sk-container-id-1\" class=\"sk-top-container\"><div class=\"sk-text-repr-fallback\"><pre>LogisticRegression()</pre><b>In a Jupyter environment, please rerun this cell to show the HTML representation or trust the notebook. <br />On GitHub, the HTML representation is unable to render, please try loading this page with nbviewer.org.</b></div><div class=\"sk-container\" hidden><div class=\"sk-item\"><div class=\"sk-estimator sk-toggleable\"><input class=\"sk-toggleable__control sk-hidden--visually\" id=\"sk-estimator-id-1\" type=\"checkbox\" checked><label for=\"sk-estimator-id-1\" class=\"sk-toggleable__label sk-toggleable__label-arrow\">LogisticRegression</label><div class=\"sk-toggleable__content\"><pre>LogisticRegression()</pre></div></div></div></div></div>"
      ],
      "text/plain": [
       "LogisticRegression()"
      ]
     },
     "execution_count": 31,
     "metadata": {},
     "output_type": "execute_result"
    }
   ],
   "source": [
    "from sklearn.linear_model import LogisticRegression\n",
    "\n",
    "model = LogisticRegression()\n",
    "model.fit(X, y)"
   ]
  },
  {
   "cell_type": "code",
   "execution_count": 33,
   "id": "6ce5a80d",
   "metadata": {},
   "outputs": [
    {
     "name": "stderr",
     "output_type": "stream",
     "text": [
      "C:\\Users\\Akmal Hasan\\AppData\\Local\\Temp\\ipykernel_20000\\3513585600.py:68: UserWarning: No data for colormapping provided via 'c'. Parameters 'cmap' will be ignored\n",
      "  ax.scatter(X0[y==labels[0]], X1[y==labels[0]], cmap=plt.cm.coolwarm,\n",
      "C:\\Users\\Akmal Hasan\\AppData\\Local\\Temp\\ipykernel_20000\\3513585600.py:70: UserWarning: No data for colormapping provided via 'c'. Parameters 'cmap' will be ignored\n",
      "  ax.scatter(X0[y==labels[1]], X1[y==labels[1]], cmap=plt.cm.coolwarm,\n"
     ]
    },
    {
     "data": {
      "image/png": "[encoded data removed]",
      "text/plain": [
       "<Figure size 640x480 with 1 Axes>"
      ]
     },
     "metadata": {},
     "output_type": "display_data"
    },
    {
     "name": "stdout",
     "output_type": "stream",
     "text": [
      "Number of errors: 3\n"
     ]
    }
   ],
   "source": [
    "import matplotlib.pyplot as plt\n",
    "\n",
    "# Set the coefficients\n",
    "model.coef_ = np.array([[0,1]])\n",
    "model.intercept_ = np.array([0])\n",
    "\n",
    "# Plot the data and decision boundary\n",
    "plot_classifier(X,y,model)\n",
    "\n",
    "# Print the number of errors\n",
    "num_err = np.sum(y != model.predict(X))\n",
    "print(\"Number of errors:\", num_err)"
   ]
  },
  {
   "cell_type": "markdown",
   "id": "ac9f8e97",
   "metadata": {},
   "source": [
    "> Great job! As you've been experiencing, the coefficients determine the slope of the boundary and the intercept shifts it."
   ]
  },
  {
   "cell_type": "markdown",
   "id": "9b14de1c",
   "metadata": {},
   "source": [
    "### 3. What is a Loss Fucntion ?"
   ]
  },
  {
   "cell_type": "markdown",
   "id": "4255dbc8",
   "metadata": {},
   "source": [
    "- **Loss function (fungsi kerugian)** adalah metrik atau kriteria yang digunakan untuk mengukur sejauh mana model pembelajaran mesin cocok dengan data pelatihan atau sejauh mana prediksi model mendekati nilai target yang sebenarnya.\n",
    "- Tujuannya adalah untuk mengukur sejauh mana model memiliki performa yang baik dalam membuat prediksi. Dalam konteks pembelajaran mesin, loss function berperan sebagai panduan bagi algoritma pelatihan untuk menyesuaikan parameter model agar hasil prediksi semakin mendekati target yang sebenarnya."
   ]
  },
  {
   "cell_type": "markdown",
   "id": "e25adf66",
   "metadata": {},
   "source": [
    "Ada berbagai jenis loss function, dan pilihan loss function yang tepat tergantung pada jenis masalah yang ingin Anda selesaikan, seperti klasifikasi, regresi, atau masalah lainnya. Beberapa contoh umum loss function meliputi:\n",
    "\n",
    "- Mean Squared Error (MSE): Digunakan dalam masalah regresi untuk mengukur perbedaan antara prediksi model dan nilai target dengan cara mengkuadratkan selisihnya.\n",
    "\n",
    "- Cross-Entropy Loss (Log Loss): Digunakan dalam masalah klasifikasi biner atau multi-kelas untuk mengukur sejauh mana prediksi probabilitas kelas model mendekati nilai sebenarnya. Ini adalah salah satu loss function yang umum digunakan dalam klasifikasi.\n",
    "\n",
    "- Hinge Loss: Digunakan dalam SVM (Support Vector Machine) untuk mengukur sejauh mana prediksi model berada di sisi yang benar dari margin yang dibutuhkan untuk memisahkan kelas.\n",
    "\n",
    "- Categorical Cross-Entropy: Digunakan dalam klasifikasi multi-kelas untuk mengukur kesalahan antara distribusi probabilitas prediksi model dan distribusi probabilitas target.\n",
    "\n",
    "- Huber Loss: Digunakan dalam regresi untuk mengurangi dampak outlier dan lebih tahan terhadap data yang tidak biasa dibandingkan dengan MSE."
   ]
  },
  {
   "cell_type": "markdown",
   "id": "046bdd54",
   "metadata": {},
   "source": [
    "Tujuan dalam pemilihan loss function adalah untuk meminimalkan nilai loss function selama proses pelatihan model. Ini dilakukan dengan mengoptimalkan parameter model sehingga prediksi model semakin mendekati nilai target yang sebenarnya. Proses ini melibatkan algoritma optimisasi seperti gradien turun (gradient descent) atau varian-varian lainnya.\n",
    "\n",
    "Pemilihan loss function yang tepat sangat penting karena dapat memengaruhi kinerja dan hasil dari model pembelajaran mesin Anda. Sebagai contoh, dalam kasus klasifikasi, penggunaan Cross-Entropy Loss lebih sesuai daripada menggunakan MSE."
   ]
  },
  {
   "cell_type": "markdown",
   "id": "594922fc",
   "metadata": {},
   "source": [
    "#### Least Square\n",
    "\n",
    "- Loss function \"Least Squares\" digunakan dalam regresi linier untuk mengukur sejauh mana model regresi linier cocok dengan data pelatihan\n",
    "- Fungsi ini meminimalkan jumlah kuadrat selisih antara nilai prediksi model dan nilai target yang sebenarnya. \n",
    "- Konsep utama dari Loss function \"Least Squares\" adalah untuk mencari garis (dalam regresi linier) yang memberikan kesalahan prediksi yang paling kecil.\n",
    "\n",
    "Dalam regresi linier, kita ingin memodelkan hubungan antara variabel independen (X) dan variabel dependen (Y) dengan sebuah garis linear, yang dapat dinyatakan sebagai:\n",
    "\n",
    "Y = β0 + β1 * X\n",
    "\n",
    "Di mana:\n",
    "\n",
    "- Y adalah nilai target yang sebenarnya.\n",
    "- β0 adalah intersep (bias).\n",
    "- β1 adalah koefisien gradien (slope).\n",
    "- X adalah variabel independen.\n",
    "\n",
    "Loss function \"Least Squares\" mengukur kesalahan prediksi dengan menjumlahkan kuadrat selisih antara nilai prediksi (Y_pred) dan nilai target (Y) untuk semua data pelatihan. Ini dinyatakan sebagai:\n",
    "\n",
    "Least Squares Loss = Σ(Y - Y_pred)²\n",
    "\n",
    "Tujuan utama dalam regresi linier adalah meminimalkan nilai dari Loss function \"Least Squares\" ini. Artinya, kita mencari nilai β0 dan β1 yang membuat jumlah kuadrat selisih ini menjadi yang terkecil. Metode umum yang digunakan untuk mencapai hal ini adalah metode gradien turun (gradient descent) atau solusi tertutup (closed-form solution), seperti rumus Normal Equations.\n",
    "\n",
    "Dengan meminimalkan Loss function \"Least Squares,\" kita mendapatkan garis regresi linier yang \"terbaik\" sesuai dengan data pelatihan, yang paling mendekati nilai target yang sebenarnya. Ini adalah alasan mengapa regresi linier sering digunakan dalam kasus ketika kita ingin memahami hubungan linier antara variabel independen dan variabel dependen.\n",
    "\n",
    "\n",
    "- method .fit digunakan untuk pelatihan model\n",
    "- method .score digunakan untuk mengevaluasi kinerja model pada data yang belum terlihat. "
   ]
  },
  {
   "cell_type": "markdown",
   "id": "c514b332",
   "metadata": {},
   "source": [
    "### Classification Error\n",
    "\n",
    "Klasifikasi error 0-1 adalah jenis metrik evaluasi yang digunakan dalam konteks masalah klasifikasi. Metrik ini sangat sederhana, di mana kesalahan dianggap sebagai 0 jika prediksi benar (akurat) dan 1 jika prediksi salah (tidak akurat).\n",
    "\n",
    "Dalam klasifikasi biner, yang memiliki dua kelas, metrik klasifikasi error 0-1 dapat dijelaskan sebagai berikut:\n",
    "\n",
    "- Jika model mengklasifikasikan sebuah sampel dengan benar ke dalam kelas yang seharusnya (prediksi yang akurat), maka klasifikasi errornya adalah 0.\n",
    "- Jika model mengklasifikasikan sebuah sampel ke dalam kelas yang salah (prediksi yang tidak akurat), maka klasifikasi errornya adalah 1.\n",
    "\n",
    "Metrik ini sering digunakan untuk mengukur performa model pada data uji, di mana setiap prediksi yang salah dihitung sebagai 1, dan setiap prediksi yang benar dihitung sebagai 0. Kemudian, seluruh prediksi dijumlahkan, dan hasilnya adalah nilai klasifikasi error 0-1. Semakin rendah nilai klasifikasi error 0-1, semakin baik kinerja model, dan sebaliknya.\n",
    "\n",
    "Namun, penting untuk diingat bahwa metrik klasifikasi error 0-1 sering kali terlalu keras dan tidak sensitif terhadap kecilnya perubahan dalam prediksi. Oleh karena itu, dalam praktiknya, metrik lain seperti akurasi (accuracy), precision, recall, F1-score, atau AUC-ROC lebih umum digunakan untuk mengevaluasi model klasifikasi, karena mereka memberikan informasi yang lebih detail dan dapat mengukur performa model dalam cara yang lebih informatif daripada metrik klasifikasi error 0-1."
   ]
  },
  {
   "attachments": {
    "image.png": {
     "image/png": "[encoded data removed]"
    }
   },
   "cell_type": "markdown",
   "id": "689f868e",
   "metadata": {},
   "source": [
    "### Exercise\n",
    "\n",
    "**The 0-1 loss**\n",
    "\n",
    "In the figure below, what is the 0-1 loss (number of classification errors) of the classifier?\n",
    "\n",
    "![image.png](attachment:image.png)\n",
    "\n",
    "ans : 2"
   ]
  },
  {
   "cell_type": "markdown",
   "id": "d69cc049",
   "metadata": {},
   "source": [
    "> Correct! There is 1 misclassified red point and 1 misclassified blue point."
   ]
  },
  {
   "cell_type": "markdown",
   "id": "14d4a95b",
   "metadata": {},
   "source": [
    "**Minimizing a loss function**\n",
    "\n",
    "In this exercise you'll implement linear regression \"from scratch\" using scipy.optimize.minimize.\n",
    "\n",
    "We'll train a model on the Boston housing price data set, which is already loaded into the variables X and y. For simplicity, we won't include an intercept in our regression model."
   ]
  },
  {
   "cell_type": "markdown",
   "id": "cb73d9c8",
   "metadata": {},
   "source": [
    "- Fill in the loss function for least squares linear regression.\n",
    "- Print out the coefficients from fitting sklearn's LinearRegression."
   ]
  },
  {
   "cell_type": "code",
   "execution_count": 36,
   "id": "196c8430",
   "metadata": {},
   "outputs": [],
   "source": [
    "X = pd.read_csv('./dataset/boston_X.csv').to_numpy()\n",
    "y = pd.read_csv('./dataset/boston_y.csv').to_numpy()"
   ]
  },
  {
   "cell_type": "code",
   "execution_count": 37,
   "id": "a0e0e580",
   "metadata": {},
   "outputs": [
    {
     "name": "stdout",
     "output_type": "stream",
     "text": [
      "[-9.16299198e-02  4.86753649e-02 -3.77538420e-03  2.85636228e+00\n",
      " -2.88089338e+00  5.92522776e+00 -7.22430602e-03 -9.67994988e-01\n",
      "  1.70448285e-01 -9.38964031e-03 -3.92422574e-01  1.49830948e-02\n",
      " -4.16971472e-01]\n",
      "[[-9.16297843e-02  4.86751203e-02 -3.77930006e-03  2.85636751e+00\n",
      "  -2.88077933e+00  5.92521432e+00 -7.22447929e-03 -9.67995240e-01\n",
      "   1.70443393e-01 -9.38925373e-03 -3.92425680e-01  1.49832102e-02\n",
      "  -4.16972624e-01]]\n"
     ]
    }
   ],
   "source": [
    "from scipy.optimize import minimize\n",
    "from sklearn.linear_model import LinearRegression\n",
    "\n",
    "# The squared error, summed overt training examples\n",
    "def my_loss(w):\n",
    "    s = 0\n",
    "    for i in range(y.size):\n",
    "        # Get the true and predicted target values for example 'i'\n",
    "        y_i_true = y[i]\n",
    "        y_i_pred = w@X[i]\n",
    "        s = s + (y_i_true - y_i_pred) ** 2\n",
    "    return s\n",
    "\n",
    "# Returns the w that makes my_loss(w) smallest\n",
    "w_fit = minimize(my_loss, X[0]).x\n",
    "print(w_fit)\n",
    "\n",
    "# Compare with scikit-learn's LinearRegression coefficients\n",
    "lr = LinearRegression(fit_intercept=False).fit(X, y)\n",
    "print(lr.coef_)"
   ]
  },
  {
   "cell_type": "markdown",
   "id": "5bf6c506",
   "metadata": {},
   "source": [
    "> Great job! This was a tough one. Isn't it cool how you reproduce the weights learned by scikit-learn?"
   ]
  },
  {
   "cell_type": "markdown",
   "id": "8bcbb7e1",
   "metadata": {},
   "source": [
    "## 4. Loss Function Diagrams"
   ]
  },
  {
   "cell_type": "markdown",
   "id": "ab0ce0eb",
   "metadata": {},
   "source": [
    "Diagram loss function adalah alat visual yang digunakan untuk memahami bagaimana loss (kesalahan) model berkembang selama proses pelatihan. Diagram ini menggambarkan bagaimana loss berubah seiring berjalannya epok (iterasi) dalam proses pembelajaran. Biasanya, diagram ini sangat berguna untuk memantau dan menganalisis bagaimana model Anda belajar dan apakah itu menghadapi overfitting atau underfitting.\n",
    "\n",
    "Berikut adalah komponen utama dalam sebuah diagram loss function:\n",
    "\n",
    "- Sumbu X (Axis X): Sumbu horizontal dalam diagram menunjukkan epok atau iterasi pelatihan. Ini mewakili berapa kali model melihat dan menyesuaikan diri dengan data pelatihan.\n",
    "\n",
    "- Sumbu Y (Axis Y): Sumbu vertikal dalam diagram menunjukkan nilai loss (biasanya dalam skala logaritmik atau linear). Loss ini menggambarkan sejauh mana model cocok dengan data pelatihan. Tujuan utama adalah untuk mengurangi loss seiring berjalannya waktu.\n",
    "\n",
    "- Loss Training (Loss Pelatihan): Ini adalah loss yang diukur pada data pelatihan. Ini memberikan gambaran sejauh mana model cocok dengan data yang digunakan untuk melatihnya.\n",
    "\n",
    "- Loss Validation (Loss Validasi): Ini adalah loss yang diukur pada data validasi atau uji. Ini memberikan gambaran sejauh mana model mampu generalisasi pada data yang belum pernah dilihat sebelumnya. Loss validasi membantu mengidentifikasi overfitting.\n",
    "\n",
    "Diagram loss function biasanya memiliki dua garis, yaitu loss pelatihan (training loss) dan loss validasi (validation loss), yang digambarkan dalam koordinat X dan Y. Selama pelatihan model, loss pelatihan cenderung menurun seiring berjalannya epok, karena model semakin sesuai dengan data pelatihan. Sementara itu, loss validasi juga cenderung menurun pada awalnya, tetapi kemudian dapat mulai meningkat saat model mulai mengalami overfitting pada data pelatihan.\n",
    "\n",
    "Melalui diagram loss function, Anda dapat melihat di mana titik terbaik terletak, yaitu di mana loss validasi mencapai minimum (jika ada) atau berhenti meningkat secara signifikan. Ini membantu Anda memutuskan kapan berhenti pelatihan (untuk menghindari overfitting) atau apakah perlu mengganti arsitektur model atau hyperparameter. Diagram loss function adalah alat yang berguna untuk pemantauan dan diagnostik selama proses pembelajaran model."
   ]
  },
  {
   "attachments": {},
   "cell_type": "markdown",
   "id": "f05af045",
   "metadata": {},
   "source": [
    "1. pada gambar diatas adalah plotting loss function dalam sumbu vertikal\n",
    "2. plot dibagi menjadi dua, kelas kiri -1 dan kanan +1\n",
    "3. bagian kanan mewakiliki prediksi yang benar dan kiri yang salah\n",
    "4. pada classification error 0-1, prediksi yang salah mendapatkan pinalti 1 dan prediksi benar tidak mendapatkan pinalti.\n",
    "5. "
   ]
  },
  {
   "attachments": {
    "image.png": {
     "image/png": "[encoded data removed]"
    }
   },
   "cell_type": "markdown",
   "id": "35657b6d",
   "metadata": {},
   "source": [
    "![image.png](attachment:image.png)"
   ]
  },
  {
   "cell_type": "markdown",
   "id": "5a149ec4",
   "metadata": {},
   "source": [
    "Dalam diagram loss function di mana sumbu X adalah raw model output dan sumbu Y adalah loss, dengan nilai-nilai pada sumbu X adalah (-2, -1, 0, 1, 2) dan nilai-nilai pada sumbu Y adalah (0, 1, 2, 3), dan Anda telah menjelaskan bahwa X bernilai 0, 1, 2 mewakili prediksi benar, dan X -1, -2 mewakili prediksi salah, berikut adalah cara membaca diagram tersebut:\n",
    "\n",
    "- Pada sumbu X (-2, -1), ini mewakili situasi di mana model memberikan prediksi yang salah. Loss function pada titik-titik ini (Y = 2 dan Y = 3) adalah tinggi, menunjukkan bahwa ada kesalahan yang signifikan dalam prediksi model. Semakin negatif nilai X, semakin tinggi lossnya, menunjukkan bahwa prediksi semakin salah.\n",
    "\n",
    "- Pada sumbu X (0, 1, 2), ini mewakili situasi di mana model memberikan prediksi yang benar. Loss function pada titik-titik ini adalah rendah, yaitu 0, 1, dan 2. Ini menunjukkan bahwa prediksi model mendekati nilai target yang sebenarnya, dan semakin mendekati 0, semakin akurat prediksinya.\n",
    "\n",
    "Anda dapat menganggap Y sebagai ukuran seberapa besar kesalahan prediksi. Semakin besar nilai Y (di atas 0), semakin besar kesalahan yang dihasilkan oleh model.\n",
    "\n",
    "Dengan demikian, dalam diagram tersebut, nilai-nilai negatif pada sumbu X (-2, -1) mewakili prediksi yang salah dengan loss yang tinggi, sedangkan nilai-nilai positif pada sumbu X (0, 1, 2) mewakili prediksi yang benar dengan loss yang rendah. Anda ingin meminimalkan loss function sehingga prediksi model mendekati nilai target yang sebenarnya dan loss mendekati 0. Jadi, tujuan Anda adalah untuk mendekati area pada sumbu X yang memiliki loss rendah (0, 1, 2) dan menghindari area dengan loss tinggi (2, 3) pada sumbu Y.\n",
    "\n",
    "\n",
    "\n",
    "\n"
   ]
  },
  {
   "cell_type": "markdown",
   "id": "4034badb",
   "metadata": {},
   "source": [
    "### Exercise"
   ]
  },
  {
   "attachments": {
    "image.png": {
     "image/png": "[encoded data removed]"
    }
   },
   "cell_type": "markdown",
   "id": "d5dd9b4f",
   "metadata": {},
   "source": [
    "**Classification loss functions**\n",
    "\n",
    "Which of the four loss functions makes sense for classification?\n",
    "\n",
    "![image.png](attachment:image.png)\n",
    "\n",
    "ans : 2"
   ]
  },
  {
   "cell_type": "markdown",
   "id": "b26152d9",
   "metadata": {},
   "source": [
    "> Correct! This loss is very similar to the hinge loss used in SVMs (just shifted slightly)."
   ]
  },
  {
   "cell_type": "markdown",
   "id": "01f36183",
   "metadata": {},
   "source": [
    "**Comparing the logistic and hinge losses**\n",
    "\n",
    "In this exercise you'll create a plot of the logistic and hinge losses using their mathematical expressions, which are provided to you.\n",
    "\n",
    "The loss function diagram from the video is shown on the right."
   ]
  },
  {
   "cell_type": "markdown",
   "id": "ce26d341",
   "metadata": {},
   "source": [
    "- Evaluate the log_loss() and hinge_loss() functions at the grid points so that they are plotted."
   ]
  },
  {
   "cell_type": "code",
   "execution_count": 38,
   "id": "3edd9972",
   "metadata": {},
   "outputs": [
    {
     "data": {
      "image/png": "[encoded data removed]",
      "text/plain": [
       "<Figure size 640x480 with 1 Axes>"
      ]
     },
     "metadata": {},
     "output_type": "display_data"
    }
   ],
   "source": [
    "# Mathematical functions for logistic and hinge losses\n",
    "def log_loss(raw_model_output):\n",
    "    return np.log(1 + np.exp(-raw_model_output))\n",
    "def hinge_loss(raw_model_output):\n",
    "    return np.maximum(0, 1 - raw_model_output)\n",
    "\n",
    "# Create a grid of values and plot\n",
    "grid = np.linspace(-2,2,1000)\n",
    "plt.plot(grid, log_loss(grid), label='logistic');\n",
    "plt.plot(grid, hinge_loss(grid), label='hinge');\n",
    "plt.axvline(x=0, linestyle='dashed', color='k')\n",
    "plt.legend();"
   ]
  },
  {
   "cell_type": "markdown",
   "id": "8b6747ca",
   "metadata": {},
   "source": [
    "> Nice! As you can see, these match up with the loss function diagrams we saw in the video."
   ]
  },
  {
   "cell_type": "markdown",
   "id": "47ab6918",
   "metadata": {},
   "source": [
    "**Implementing logistic regression**\n",
    "\n",
    "This is very similar to the earlier exercise where you implemented linear regression \"from scratch\" using scipy.optimize.minimize. However, this time we'll minimize the logistic loss and compare with scikit-learn's LogisticRegression (we've set C to a large value to disable regularization; more on this in Chapter 3!).\n",
    "\n",
    "The log_loss() function from the previous exercise is already defined in your environment, and the sklearn breast cancer prediction dataset (first 10 features, standardized) is loaded into the variables X and y."
   ]
  },
  {
   "cell_type": "markdown",
   "id": "04bdfa63",
   "metadata": {},
   "source": [
    "- Input the number of training examples into range().\n",
    "- Fill in the loss function for logistic regression.\n",
    "- Compare the coefficients to sklearn's LogisticRegression."
   ]
  },
  {
   "cell_type": "code",
   "execution_count": 40,
   "id": "d8d10930",
   "metadata": {},
   "outputs": [],
   "source": [
    "X = pd.read_csv('./dataset/breast_X.csv').to_numpy()\n",
    "y = pd.read_csv('./dataset/breast_y.csv').to_numpy()"
   ]
  },
  {
   "cell_type": "code",
   "execution_count": 41,
   "id": "c44f12ce",
   "metadata": {},
   "outputs": [
    {
     "name": "stdout",
     "output_type": "stream",
     "text": [
      "[ 1.03622113 -1.65378254  4.08296179 -9.40919378 -1.06786655  0.07894983\n",
      " -0.85110188 -2.44102477 -0.45285701  0.43352716]\n",
      "[[ 1.03665946 -1.65380077  4.08233062 -9.40904867 -1.06787935  0.07901598\n",
      "  -0.85099843 -2.44107473 -0.45288928  0.43348202]]\n"
     ]
    },
    {
     "name": "stderr",
     "output_type": "stream",
     "text": [
      "C:\\Users\\Akmal Hasan\\anaconda3\\Lib\\site-packages\\sklearn\\utils\\validation.py:1143: DataConversionWarning: A column-vector y was passed when a 1d array was expected. Please change the shape of y to (n_samples, ), for example using ravel().\n",
      "  y = column_or_1d(y, warn=True)\n"
     ]
    }
   ],
   "source": [
    "# logistic loss, summed over training examples\n",
    "def my_loss(w):\n",
    "    s = 0\n",
    "    for i in range(y.size):\n",
    "        raw_model_output = w@X[i]\n",
    "        s = s + log_loss(raw_model_output * y[i])\n",
    "    return s\n",
    "\n",
    "# Returns the w that makes my_loss(w) smallest\n",
    "w_fit = minimize(my_loss, X[0]).x\n",
    "print(w_fit)\n",
    "\n",
    "# Compare with scikit-learn's LogisticRegression\n",
    "lr = LogisticRegression(fit_intercept=False, C=1000000).fit(X, y)\n",
    "print(lr.coef_)"
   ]
  },
  {
   "cell_type": "markdown",
   "id": "30145303",
   "metadata": {},
   "source": [
    "> Great job! As you can see, logistic regression is just minimizing the loss function we've been looking at. Much more on logistic regression in the next chapter!"
   ]
  }
 ],
 "metadata": {
  "kernelspec": {
   "display_name": "vulcan_da",
   "language": "python",
   "name": "vulcan_da"
  },
  "language_info": {
   "codemirror_mode": {
    "name": "ipython",
    "version": 3
   },
   "file_extension": ".py",
   "mimetype": "text/x-python",
   "name": "python",
   "nbconvert_exporter": "python",
   "pygments_lexer": "ipython3",
   "version": "3.11.5"
  }
 },
 "nbformat": 4,
 "nbformat_minor": 5
}
